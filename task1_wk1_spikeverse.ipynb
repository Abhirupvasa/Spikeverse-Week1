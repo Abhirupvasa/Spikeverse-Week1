{
 "cells": [
  {
   "cell_type": "markdown",
   "id": "0e35c665",
   "metadata": {},
   "source": [
    "Task 1: Tabular Q-Learning Update"
   ]
  },
  {
   "cell_type": "code",
   "execution_count": null,
   "id": "b70eb950",
   "metadata": {},
   "outputs": [],
   "source": [
    "from typing import List\n",
    "import numpy as np"
   ]
  },
  {
   "cell_type": "markdown",
   "id": "2500cd21",
   "metadata": {},
   "source": [
    "Q-table initialisation function:"
   ]
  },
  {
   "cell_type": "code",
   "execution_count": null,
   "id": "d3c60dd2",
   "metadata": {},
   "outputs": [],
   "source": [
    "def init_q_table(n_states, n_actions) -> List[List[int]] :\n",
    "    q_table = []\n",
    "    while n_states :\n",
    "        row = []\n",
    "        for i in range(n_actions) :\n",
    "            row.append(0)\n",
    "        q_table.append(row)\n",
    "    return q_table"
   ]
  },
  {
   "cell_type": "markdown",
   "id": "7ff88db4",
   "metadata": {},
   "source": [
    "Function for updating the q values:"
   ]
  },
  {
   "cell_type": "code",
   "execution_count": null,
   "id": "789de311",
   "metadata": {},
   "outputs": [],
   "source": [
    "def q_update(Q, s, a, r, s_next, alpha, gamma) -> List[List[int]] :\n",
    "    Q[s][a] = Q[s][a] + alpha*(r + gamma*np.max(Q[s_next]) - Q[s][a])\n",
    "    return Q"
   ]
  }
 ],
 "metadata": {
  "kernelspec": {
   "display_name": "Python 3",
   "language": "python",
   "name": "python3"
  },
  "language_info": {
   "name": "python",
   "version": "3.10.12"
  }
 },
 "nbformat": 4,
 "nbformat_minor": 5
}
