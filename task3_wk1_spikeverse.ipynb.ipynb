{
 "cells": [
  {
   "cell_type": "markdown",
   "id": "54ec5257",
   "metadata": {},
   "source": [
    "Task 3: Experience Replay Buffer\n"
   ]
  },
  {
   "cell_type": "code",
   "execution_count": 1,
   "id": "4165efa2",
   "metadata": {},
   "outputs": [],
   "source": [
    "import random\n",
    "import numpy as np"
   ]
  },
  {
   "cell_type": "code",
   "execution_count": 2,
   "id": "e5041015",
   "metadata": {},
   "outputs": [],
   "source": [
    "class ReplayBuffer:\n",
    "    def __init__(self, capacity):\n",
    "        self.capacity = capacity\n",
    "        self.buffer = []\n",
    "    \n",
    "    def push(self, state, action, reward, next_state, done):\n",
    "        if len(self.buffer) < self.capacity:\n",
    "            self.buffer.append([state, action, reward, next_state, done])\n",
    "        else:\n",
    "            self.buffer.pop(0)  # Remove oldest if full\n",
    "            self.buffer.append([state, action, reward, next_state, done])\n",
    "    \n",
    "    def sample(self, batch_size):\n",
    "        batch = random.sample(self.buffer, batch_size)\n",
    "        states = []\n",
    "        actions = []\n",
    "        rewards = []\n",
    "        next_states = []\n",
    "        dones = []\n",
    "        \n",
    "        for item in batch:\n",
    "            states.append(item[0])\n",
    "            actions.append(item[1])\n",
    "            rewards.append(item[2])\n",
    "            next_states.append(item[3])\n",
    "            dones.append(item[4])\n",
    "        \n",
    "        return (np.array(states), np.array(actions), np.array(rewards), np.array(next_states), np.array(dones))"
   ]
  },
  {
   "cell_type": "markdown",
   "id": "678a97d6",
   "metadata": {},
   "source": [
    " Create ReplayBuffer instance with capacity 100 and fill buffer with random data"
   ]
  },
  {
   "cell_type": "code",
   "execution_count": 3,
   "id": "ade02f0c",
   "metadata": {},
   "outputs": [],
   "source": [
    "buffer = ReplayBuffer(100)\n",
    "\n",
    "for a in range(100):\n",
    "    state = [random.randint(0, 9) for b in range(4)]\n",
    "    action = random.randint(0, 3)\n",
    "    reward = random.uniform(-1, 1)\n",
    "    next_state = [random.randint(0, 9) for c in range(4)]\n",
    "    done = random.choice([True, False])\n",
    "    buffer.push(state, action, reward, next_state, done)\n"
   ]
  },
  {
   "cell_type": "code",
   "execution_count": 4,
   "id": "0b6afcb0",
   "metadata": {},
   "outputs": [
    {
     "name": "stdout",
     "output_type": "stream",
     "text": [
      "States: (32, 4) int64\n",
      "Actions: (32,) int64\n",
      "Rewards: (32,) float64\n",
      "Next States: (32, 4) int64\n",
      "Dones: (32,) bool\n"
     ]
    }
   ],
   "source": [
    "states, actions, rewards, next_states, dones = buffer.sample(32)\n",
    "\n",
    "print(\"States:\", states.shape, states.dtype)\n",
    "print(\"Actions:\", actions.shape, actions.dtype)\n",
    "print(\"Rewards:\", rewards.shape, rewards.dtype)\n",
    "print(\"Next States:\", next_states.shape, next_states.dtype)\n",
    "print(\"Dones:\", dones.shape, dones.dtype)\n"
   ]
  }
 ],
 "metadata": {
  "kernelspec": {
   "display_name": "Python 3",
   "language": "python",
   "name": "python3"
  },
  "language_info": {
   "codemirror_mode": {
    "name": "ipython",
    "version": 3
   },
   "file_extension": ".py",
   "mimetype": "text/x-python",
   "name": "python",
   "nbconvert_exporter": "python",
   "pygments_lexer": "ipython3",
   "version": "3.10.12"
  }
 },
 "nbformat": 4,
 "nbformat_minor": 5
}
