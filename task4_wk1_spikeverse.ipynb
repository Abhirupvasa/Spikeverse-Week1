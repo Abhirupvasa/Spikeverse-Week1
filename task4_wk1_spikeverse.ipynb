{
 "cells": [
  {
   "cell_type": "markdown",
   "id": "61d36020",
   "metadata": {},
   "source": [
    "Task 4: Deep Q-Network with Target Copy"
   ]
  },
  {
   "cell_type": "code",
   "execution_count": 1,
   "id": "bbce21bd",
   "metadata": {},
   "outputs": [
    {
     "ename": "ModuleNotFoundError",
     "evalue": "No module named 'torch'",
     "output_type": "error",
     "traceback": [
      "\u001b[0;31m---------------------------------------------------------------------------\u001b[0m",
      "\u001b[0;31mModuleNotFoundError\u001b[0m                       Traceback (most recent call last)",
      "Cell \u001b[0;32mIn[1], line 1\u001b[0m\n\u001b[0;32m----> 1\u001b[0m \u001b[38;5;28;01mimport\u001b[39;00m \u001b[38;5;21;01mtorch\u001b[39;00m\n\u001b[1;32m      2\u001b[0m \u001b[38;5;28;01mimport\u001b[39;00m \u001b[38;5;21;01mtorch\u001b[39;00m\u001b[38;5;21;01m.\u001b[39;00m\u001b[38;5;21;01mnn\u001b[39;00m \u001b[38;5;28;01mas\u001b[39;00m \u001b[38;5;21;01mnn\u001b[39;00m\n\u001b[1;32m      3\u001b[0m \u001b[38;5;28;01mimport\u001b[39;00m \u001b[38;5;21;01mtorch\u001b[39;00m\u001b[38;5;21;01m.\u001b[39;00m\u001b[38;5;21;01mnn\u001b[39;00m\u001b[38;5;21;01m.\u001b[39;00m\u001b[38;5;21;01mfunctional\u001b[39;00m \u001b[38;5;28;01mas\u001b[39;00m \u001b[38;5;21;01mF\u001b[39;00m\n",
      "\u001b[0;31mModuleNotFoundError\u001b[0m: No module named 'torch'"
     ]
    }
   ],
   "source": [
    "import torch\n",
    "import torch.nn as nn\n",
    "import torch.nn.functional as F"
   ]
  },
  {
   "cell_type": "markdown",
   "id": "82de4665",
   "metadata": {},
   "source": [
    "Defining the DQN architecture"
   ]
  },
  {
   "cell_type": "code",
   "execution_count": null,
   "id": "174279ed",
   "metadata": {},
   "outputs": [],
   "source": [
    "class DQNPolicy(nn.Module):\n",
    "    def __init__(self, input_size, output_size):\n",
    "        super(DQNPolicy, self).__init__()\n",
    "        self.hidden1 = nn.Linear(input_size, 128)# First hidden layer with 128 neurons\n",
    "        self.hidden2 = nn.Linear(128, 128) # Second hidden layer with 128 neurons\n",
    "        self.output = nn.Linear(128, output_size)# Output layer\n",
    "    \n",
    "    def forward(self, x):\n",
    "        # Passing data through the first hidden layer and apply ReLU activation\n",
    "        x = F.relu(self.hidden1(x))\n",
    "        x = F.relu(self.hidden2(x))\n",
    "        x = self.output(x)\n",
    "        return x"
   ]
  },
  {
   "cell_type": "markdown",
   "id": "cad55fe0",
   "metadata": {},
   "source": [
    "Defining the target network"
   ]
  },
  {
   "cell_type": "code",
   "execution_count": null,
   "id": "5848fed7",
   "metadata": {},
   "outputs": [],
   "source": [
    "class DQNTarget(nn.Module):\n",
    "    def __init__(self, input_size, output_size):\n",
    "        super(DQNTarget, self).__init__()\n",
    "        self.hidden1 = nn.Linear(input_size, 128)\n",
    "        self.hidden2 = nn.Linear(128, 128)\n",
    "        self.output = nn.Linear(128, output_size)\n",
    "    \n",
    "    def forward(self, x):\n",
    "        x = F.relu(self.hidden1(x))\n",
    "        x = F.relu(self.hidden2(x))\n",
    "        x = self.output(x)\n",
    "        return x"
   ]
  },
  {
   "cell_type": "markdown",
   "id": "955e85c5",
   "metadata": {},
   "source": [
    "Function to copy weights from the policy network to the target network"
   ]
  },
  {
   "cell_type": "code",
   "execution_count": null,
   "id": "dd31646d",
   "metadata": {},
   "outputs": [],
   "source": [
    "def update_target(policy_net, target_net):\n",
    "    # Copy the parameters of the policy network to the target network\n",
    "    target_net.load_state_dict(policy_net.state_dict())\n",
    "    print(\"Target network has been updated with policy network's weights.\")"
   ]
  },
  {
   "cell_type": "code",
   "execution_count": null,
   "id": "8cb47565",
   "metadata": {},
   "outputs": [],
   "source": [
    "input_size = 4\n",
    "output_size = 2\n",
    "\n",
    "policy_net = DQNPolicy(input_size, output_size)\n",
    "target_net = DQNTarget(input_size, output_size)\n",
    "\n",
    "print(\"Before updating target network:\")\n",
    "print(\"Policy network parameters:\")\n",
    "print(list(policy_net.parameters())[0][0][:5])\n",
    "print(\"Target network parameters:\")\n",
    "print(list(target_net.parameters())[0][0][:5])\n",
    "\n",
    "update_target(policy_net, target_net)\n",
    "\n",
    "print(\"After updating target network:\")\n",
    "print(\"Target network parameters:\")\n",
    "print(list(target_net.parameters())[0][0][:5])\n"
   ]
  }
 ],
 "metadata": {
  "kernelspec": {
   "display_name": "Python 3",
   "language": "python",
   "name": "python3"
  },
  "language_info": {
   "codemirror_mode": {
    "name": "ipython",
    "version": 3
   },
   "file_extension": ".py",
   "mimetype": "text/x-python",
   "name": "python",
   "nbconvert_exporter": "python",
   "pygments_lexer": "ipython3",
   "version": "3.10.12"
  }
 },
 "nbformat": 4,
 "nbformat_minor": 5
}
